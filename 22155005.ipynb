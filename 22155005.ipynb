{
 "cells": [
  {
   "cell_type": "markdown",
   "id": "2dee5ec3-768e-4032-a817-9adc2c3e6517",
   "metadata": {},
   "source": [
    "# Primera clase PCD"
   ]
  },
  {
   "cell_type": "markdown",
   "id": "1b7623df-ad86-4831-bc6a-aeaabcf5fca0",
   "metadata": {},
   "source": [
    "1. Muestre que version de pip tiene?"
   ]
  },
  {
   "cell_type": "code",
   "execution_count": 3,
   "id": "a86b1916-bc56-49d5-af99-72f17eaa5da4",
   "metadata": {},
   "outputs": [
    {
     "name": "stdout",
     "output_type": "stream",
     "text": [
      "pip 23.2.1 from C:\\Users\\ruben\\AppData\\Local\\Programs\\Python\\Python311\\Lib\\site-packages\\pip (python 3.11)\n",
      "\n"
     ]
    }
   ],
   "source": [
    "!pip --version"
   ]
  },
  {
   "cell_type": "markdown",
   "id": "187d1ef4-98dc-461c-bead-c0ccaae4806c",
   "metadata": {},
   "source": [
    "# Systems specs"
   ]
  },
  {
   "cell_type": "code",
   "execution_count": 2,
   "id": "2bc62d26-7ef9-4772-bcea-2401595187df",
   "metadata": {},
   "outputs": [],
   "source": [
    "import platform as pt"
   ]
  },
  {
   "cell_type": "code",
   "execution_count": 5,
   "id": "80b949e4-6548-4ce2-956c-cfe87dc4af47",
   "metadata": {},
   "outputs": [
    {
     "data": {
      "text/plain": [
       "'Intel64 Family 6 Model 165 Stepping 2, GenuineIntel'"
      ]
     },
     "execution_count": 5,
     "metadata": {},
     "output_type": "execute_result"
    }
   ],
   "source": [
    "pt.processor()"
   ]
  },
  {
   "cell_type": "code",
   "execution_count": 6,
   "id": "daddaae9-7668-47eb-a081-c98f402f9e79",
   "metadata": {},
   "outputs": [
    {
     "data": {
      "text/plain": [
       "uname_result(system='Windows', node='DESKTOP-KRB9N0F', release='10', version='10.0.19045', machine='AMD64')"
      ]
     },
     "execution_count": 6,
     "metadata": {},
     "output_type": "execute_result"
    }
   ],
   "source": [
    "pt.uname()"
   ]
  },
  {
   "cell_type": "code",
   "execution_count": 7,
   "id": "a99b8d93-4e5d-45d2-8fce-8b41b7209673",
   "metadata": {},
   "outputs": [
    {
     "data": {
      "text/plain": [
       "'Windows-10-10.0.19045-SP0'"
      ]
     },
     "execution_count": 7,
     "metadata": {},
     "output_type": "execute_result"
    }
   ],
   "source": [
    "pt.platform()"
   ]
  },
  {
   "cell_type": "markdown",
   "id": "1d7e3c9e-0778-49d2-9932-6f7fb8f93b7d",
   "metadata": {},
   "source": [
    "# Cores? "
   ]
  },
  {
   "cell_type": "code",
   "execution_count": 8,
   "id": "2158aba7-4ee4-4862-910b-adcad792eaa5",
   "metadata": {},
   "outputs": [],
   "source": [
    "import os"
   ]
  },
  {
   "cell_type": "code",
   "execution_count": 9,
   "id": "3bc21bfa-2196-41d1-bcfe-a868e4035d19",
   "metadata": {},
   "outputs": [
    {
     "data": {
      "text/plain": [
       "8"
      ]
     },
     "execution_count": 9,
     "metadata": {},
     "output_type": "execute_result"
    }
   ],
   "source": [
    "os.cpu_count()"
   ]
  },
  {
   "cell_type": "markdown",
   "id": "e31e251f-905c-4c68-a3e1-c0c57fb7c63e",
   "metadata": {},
   "source": [
    "## 3/Oct/2023\n",
    "### Threads."
   ]
  },
  {
   "cell_type": "code",
   "execution_count": 14,
   "id": "e27f32df-9647-4134-afcd-37e657b08a14",
   "metadata": {},
   "outputs": [],
   "source": [
    "import threading as th"
   ]
  },
  {
   "cell_type": "code",
   "execution_count": 3,
   "id": "83854f03-69eb-4eaa-9ac1-8781b8acd03f",
   "metadata": {},
   "outputs": [
    {
     "data": {
      "text/plain": [
       "6"
      ]
     },
     "execution_count": 3,
     "metadata": {},
     "output_type": "execute_result"
    }
   ],
   "source": [
    "th.active_count()"
   ]
  },
  {
   "cell_type": "code",
   "execution_count": null,
   "id": "21d03857-b95e-487f-892a-0072ad60a94d",
   "metadata": {},
   "outputs": [],
   "source": [
    "th.current_thread()."
   ]
  },
  {
   "cell_type": "code",
   "execution_count": 4,
   "id": "2ac35b4c-2760-4f7c-a7b3-920224642b1a",
   "metadata": {},
   "outputs": [
    {
     "data": {
      "text/plain": [
       "[<_MainThread(MainThread, started 8508)>,\n",
       " <Thread(IOPub, started daemon 24288)>,\n",
       " <Heartbeat(Heartbeat, started daemon 24948)>,\n",
       " <ControlThread(Control, started daemon 13904)>,\n",
       " <HistorySavingThread(IPythonHistorySavingThread, started 13552)>,\n",
       " <ParentPollerWindows(Thread-4, started daemon 8100)>]"
      ]
     },
     "execution_count": 4,
     "metadata": {},
     "output_type": "execute_result"
    }
   ],
   "source": [
    "th.enumerate()"
   ]
  },
  {
   "cell_type": "markdown",
   "id": "a98539b9-654b-46df-9f71-5898c864f328",
   "metadata": {},
   "source": [
    "# Who is the parent"
   ]
  },
  {
   "cell_type": "code",
   "execution_count": 4,
   "id": "4abcb0cd-187b-4ffd-b65e-ae44a7766130",
   "metadata": {},
   "outputs": [],
   "source": [
    "import os"
   ]
  },
  {
   "cell_type": "code",
   "execution_count": 6,
   "id": "778668c3-7953-4565-bd2d-4fb845bd400e",
   "metadata": {},
   "outputs": [],
   "source": [
    "from IPython import display as dp "
   ]
  },
  {
   "cell_type": "code",
   "execution_count": 10,
   "id": "5767cd71-84d8-4c29-b166-3a9aaf69165c",
   "metadata": {},
   "outputs": [
    {
     "data": {
      "image/png": "[encoded data removed]",
      "text/plain": [
       "<IPython.core.display.Image object>"
      ]
     },
     "execution_count": 10,
     "metadata": {},
     "output_type": "execute_result"
    }
   ],
   "source": [
    "dp.Image(\"Imagen1.png\")"
   ]
  },
  {
   "cell_type": "code",
   "execution_count": 5,
   "id": "2eede293-781b-4c7a-a297-d7652afcf6d9",
   "metadata": {},
   "outputs": [
    {
     "data": {
      "text/plain": [
       "13548"
      ]
     },
     "execution_count": 5,
     "metadata": {},
     "output_type": "execute_result"
    }
   ],
   "source": [
    "os.getpid()"
   ]
  },
  {
   "cell_type": "markdown",
   "id": "1daa02c6-dc74-4f63-ba88-1ce818e22645",
   "metadata": {},
   "source": [
    "# threads vs process"
   ]
  },
  {
   "cell_type": "markdown",
   "id": "1222b1cb-3905-43f4-b7a8-c8983243b821",
   "metadata": {},
   "source": [
    "## Threads ex."
   ]
  },
  {
   "cell_type": "code",
   "execution_count": 12,
   "id": "087be549-8855-401a-be77-afde29bdc1cf",
   "metadata": {},
   "outputs": [],
   "source": [
    "def do_nothing():\n",
    "    while True:\n",
    "        pass\n",
    "        "
   ]
  },
  {
   "cell_type": "code",
   "execution_count": 17,
   "id": "ad79f229-ca94-4e95-aff2-905adc04f32c",
   "metadata": {},
   "outputs": [
    {
     "data": {
      "text/plain": [
       "[<_MainThread(MainThread, started 25180)>,\n",
       " <Thread(IOPub, started daemon 22352)>,\n",
       " <Heartbeat(Heartbeat, started daemon 20692)>,\n",
       " <ControlThread(Control, started daemon 11884)>,\n",
       " <HistorySavingThread(IPythonHistorySavingThread, started 8368)>,\n",
       " <ParentPollerWindows(Thread-4, started daemon 21232)>,\n",
       " <Thread(Thread-5 (do_nothing), started 15804)>,\n",
       " <Thread(Thread-6 (do_nothing), started 26124)>,\n",
       " <Thread(Thread-7 (do_nothing), started 3980)>,\n",
       " <Thread(Thread-8 (do_nothing), started 6728)>,\n",
       " <Thread(Thread-9 (do_nothing), started 23692)>,\n",
       " <Thread(Thread-10 (do_nothing), started 16044)>,\n",
       " <Thread(Thread-11 (do_nothing), started 17796)>,\n",
       " <Thread(Thread-12 (do_nothing), started 20680)>,\n",
       " <Thread(Thread-13 (do_nothing), started 12908)>,\n",
       " <Thread(Thread-14 (do_nothing), started 25192)>,\n",
       " <Thread(Thread-15 (do_nothing), started 9196)>,\n",
       " <Thread(Thread-16 (do_nothing), started 26164)>,\n",
       " <Thread(Thread-17 (do_nothing), started 25328)>,\n",
       " <Thread(Thread-18 (do_nothing), started 26548)>,\n",
       " <Thread(Thread-19 (do_nothing), started 26096)>,\n",
       " <Thread(Thread-20 (do_nothing), started 24340)>,\n",
       " <Thread(Thread-21 (do_nothing), started 12920)>,\n",
       " <Thread(Thread-22 (do_nothing), started 4460)>,\n",
       " <Thread(Thread-23 (do_nothing), started 19316)>,\n",
       " <Thread(Thread-24 (do_nothing), started 23796)>,\n",
       " <Thread(Thread-25 (do_nothing), started 5144)>,\n",
       " <Thread(Thread-26 (do_nothing), started 2632)>,\n",
       " <Thread(Thread-27 (do_nothing), started 13132)>,\n",
       " <Thread(Thread-28 (do_nothing), started 25892)>,\n",
       " <Thread(Thread-29 (do_nothing), started 17516)>,\n",
       " <Thread(Thread-30 (do_nothing), started 8516)>,\n",
       " <Thread(Thread-31 (do_nothing), started 2692)>,\n",
       " <Thread(Thread-32 (do_nothing), started 10888)>,\n",
       " <Thread(Thread-33 (do_nothing), started 23420)>,\n",
       " <Thread(Thread-34 (do_nothing), started 3428)>,\n",
       " <Thread(Thread-35 (do_nothing), started 21124)>,\n",
       " <Thread(Thread-36 (do_nothing), started 22892)>,\n",
       " <Thread(Thread-37 (do_nothing), started 4540)>,\n",
       " <Thread(Thread-38 (do_nothing), started 17984)>,\n",
       " <Thread(Thread-39 (do_nothing), started 11432)>,\n",
       " <Thread(Thread-40 (do_nothing), started 12080)>,\n",
       " <Thread(Thread-41 (do_nothing), started 15444)>,\n",
       " <Thread(Thread-42 (do_nothing), started 16436)>,\n",
       " <Thread(Thread-43 (do_nothing), started 5504)>,\n",
       " <Thread(Thread-44 (do_nothing), started 23352)>,\n",
       " <Thread(Thread-45 (do_nothing), started 22020)>,\n",
       " <Thread(Thread-46 (do_nothing), started 4992)>,\n",
       " <Thread(Thread-47 (do_nothing), started 16452)>,\n",
       " <Thread(Thread-48 (do_nothing), started 17460)>,\n",
       " <Thread(Thread-49 (do_nothing), started 19052)>,\n",
       " <Thread(Thread-50 (do_nothing), started 18928)>,\n",
       " <Thread(Thread-51 (do_nothing), started 5064)>,\n",
       " <Thread(Thread-52 (do_nothing), started 16792)>,\n",
       " <Thread(Thread-53 (do_nothing), started 5816)>,\n",
       " <Thread(Thread-54 (do_nothing), started 21140)>,\n",
       " <Thread(Thread-55 (do_nothing), started 19892)>,\n",
       " <Thread(Thread-56 (do_nothing), started 19420)>,\n",
       " <Thread(Thread-57 (do_nothing), started 17540)>,\n",
       " <Thread(Thread-58 (do_nothing), started 23628)>,\n",
       " <Thread(Thread-59 (do_nothing), started 18896)>,\n",
       " <Thread(Thread-60 (do_nothing), started 23560)>,\n",
       " <Thread(Thread-61 (do_nothing), started 10504)>,\n",
       " <Thread(Thread-62 (do_nothing), started 18856)>,\n",
       " <Thread(Thread-63 (do_nothing), started 13248)>,\n",
       " <Thread(Thread-64 (do_nothing), started 16856)>]"
      ]
     },
     "execution_count": 17,
     "metadata": {},
     "output_type": "execute_result"
    }
   ],
   "source": [
    "for i in range(20):\n",
    "    th.Thread(target=do_nothing).start()\n",
    "\n",
    "th.enumerate()"
   ]
  },
  {
   "cell_type": "markdown",
   "id": "23e27bec-415a-41e2-a8f9-6602286527a7",
   "metadata": {},
   "source": [
    "### Process Ex"
   ]
  },
  {
   "cell_type": "code",
   "execution_count": null,
   "id": "8ec31d17-945a-42d1-bf15-f123f283b26e",
   "metadata": {},
   "outputs": [],
   "source": [
    "for i in range(20):\n",
    "    mp.Process(target= do_nothing()).start"
   ]
  },
  {
   "cell_type": "code",
   "execution_count": null,
   "id": "8ababfbe-a9d9-4a83-af47-1b26d2e12f1f",
   "metadata": {},
   "outputs": [],
   "source": []
  },
  {
   "cell_type": "markdown",
   "id": "d08ff283-ccca-4f4e-9b0a-ef034522cbfd",
   "metadata": {},
   "source": [
    "#### Import Libs, manage process (cores)"
   ]
  },
  {
   "cell_type": "code",
   "execution_count": 18,
   "id": "45f76170-4ead-4556-89cb-40372a34de71",
   "metadata": {},
   "outputs": [],
   "source": [
    "import multiprocessing as mp #Manages cores"
   ]
  },
  {
   "cell_type": "code",
   "execution_count": 19,
   "id": "6d284201-153f-4f8b-a223-ac19fa909b01",
   "metadata": {},
   "outputs": [
    {
     "data": {
      "text/plain": [
       "8"
      ]
     },
     "execution_count": 19,
     "metadata": {},
     "output_type": "execute_result"
    }
   ],
   "source": [
    "mp.cpu_count()"
   ]
  },
  {
   "cell_type": "code",
   "execution_count": 7,
   "id": "fdf75b92-efb8-4f47-b070-b1492838980a",
   "metadata": {},
   "outputs": [
    {
     "data": {
      "text/plain": [
       "<_MainProcess name='MainProcess' parent=None started>"
      ]
     },
     "execution_count": 7,
     "metadata": {},
     "output_type": "execute_result"
    }
   ],
   "source": [
    "mp.current_process()"
   ]
  },
  {
   "cell_type": "markdown",
   "id": "c9c2fbc7-af63-4fdd-a011-44f805483264",
   "metadata": {},
   "source": [
    "## Cual es mi interprete de Python?"
   ]
  },
  {
   "cell_type": "code",
   "execution_count": 8,
   "id": "d367d68c-8218-4f89-b71c-a47da389ab9a",
   "metadata": {},
   "outputs": [
    {
     "name": "stdout",
     "output_type": "stream",
     "text": [
      "Python 3.11.5\n"
     ]
    }
   ],
   "source": [
    "!  python3 --version"
   ]
  },
  {
   "cell_type": "code",
   "execution_count": 9,
   "id": "d8642e42-749f-487c-b0f6-f49d5351a1cf",
   "metadata": {},
   "outputs": [],
   "source": [
    "import platform as pt"
   ]
  },
  {
   "cell_type": "code",
   "execution_count": 10,
   "id": "ed05a855-7331-4094-a30a-72912af08750",
   "metadata": {},
   "outputs": [
    {
     "data": {
      "text/plain": [
       "'CPython'"
      ]
     },
     "execution_count": 10,
     "metadata": {},
     "output_type": "execute_result"
    }
   ],
   "source": [
    "pt.python_implementation()"
   ]
  },
  {
   "cell_type": "code",
   "execution_count": 11,
   "id": "8a16f6fd-bef0-4596-b204-608428b98081",
   "metadata": {},
   "outputs": [
    {
     "data": {
      "text/plain": [
       "'MSC v.1936 64 bit (AMD64)'"
      ]
     },
     "execution_count": 11,
     "metadata": {},
     "output_type": "execute_result"
    }
   ],
   "source": [
    "pt.python_compiler()"
   ]
  },
  {
   "cell_type": "code",
   "execution_count": 12,
   "id": "6ae0f3c7-396e-4692-a7b7-de4f340478cb",
   "metadata": {},
   "outputs": [
    {
     "data": {
      "text/plain": [
       "([1, 2, 3, 4], [4, 6, 7])"
      ]
     },
     "execution_count": 12,
     "metadata": {},
     "output_type": "execute_result"
    }
   ],
   "source": [
    "[1,2,3,4],[4,6,7]"
   ]
  },
  {
   "cell_type": "code",
   "execution_count": null,
   "id": "08728706-483e-419e-848d-ed96b15daebe",
   "metadata": {},
   "outputs": [],
   "source": []
  }
 ],
 "metadata": {
  "kernelspec": {
   "display_name": "Python 3 (ipykernel)",
   "language": "python",
   "name": "python3"
  },
  "language_info": {
   "codemirror_mode": {
    "name": "ipython",
    "version": 3
   },
   "file_extension": ".py",
   "mimetype": "text/x-python",
   "name": "python",
   "nbconvert_exporter": "python",
   "pygments_lexer": "ipython3",
   "version": "3.11.5"
  }
 },
 "nbformat": 4,
 "nbformat_minor": 5
}
