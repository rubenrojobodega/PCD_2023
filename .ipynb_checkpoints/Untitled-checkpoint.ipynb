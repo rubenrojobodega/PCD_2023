{
 "cells": [
  {
   "cell_type": "markdown",
   "id": "2dee5ec3-768e-4032-a817-9adc2c3e6517",
   "metadata": {},
   "source": [
    "# Primera clase PCD"
   ]
  },
  {
   "cell_type": "code",
   "execution_count": 1,
   "id": "bf7bb8bf-5f06-4f77-8bfc-3c8a209499aa",
   "metadata": {},
   "outputs": [
    {
     "name": "stdout",
     "output_type": "stream",
     "text": [
      "Object `tiene` not found.\n",
      "pip 23.2.1 from C:\\Users\\ruben\\AppData\\Local\\Programs\\Python\\Python311\\Lib\\site-packages\\pip (python 3.11)\n",
      "\n"
     ]
    }
   ],
   "source": [
    "1. Muestre que version de pip tiene?"
   ]
  },
  {
   "cell_type": "code",
   "execution_count": 3,
   "id": "a86b1916-bc56-49d5-af99-72f17eaa5da4",
   "metadata": {},
   "outputs": [
    {
     "name": "stdout",
     "output_type": "stream",
     "text": [
      "pip 23.2.1 from C:\\Users\\ruben\\AppData\\Local\\Programs\\Python\\Python311\\Lib\\site-packages\\pip (python 3.11)\n",
      "\n"
     ]
    }
   ],
   "source": [
    "!pip --version"
   ]
  },
  {
   "cell_type": "markdown",
   "id": "187d1ef4-98dc-461c-bead-c0ccaae4806c",
   "metadata": {},
   "source": [
    "# Systems specs"
   ]
  },
  {
   "cell_type": "code",
   "execution_count": 2,
   "id": "2bc62d26-7ef9-4772-bcea-2401595187df",
   "metadata": {},
   "outputs": [],
   "source": [
    "import platform as pt"
   ]
  },
  {
   "cell_type": "code",
   "execution_count": 5,
   "id": "80b949e4-6548-4ce2-956c-cfe87dc4af47",
   "metadata": {},
   "outputs": [
    {
     "data": {
      "text/plain": [
       "'Intel64 Family 6 Model 165 Stepping 2, GenuineIntel'"
      ]
     },
     "execution_count": 5,
     "metadata": {},
     "output_type": "execute_result"
    }
   ],
   "source": [
    "pt.processor()"
   ]
  },
  {
   "cell_type": "code",
   "execution_count": 6,
   "id": "daddaae9-7668-47eb-a081-c98f402f9e79",
   "metadata": {},
   "outputs": [
    {
     "data": {
      "text/plain": [
       "uname_result(system='Windows', node='DESKTOP-KRB9N0F', release='10', version='10.0.19045', machine='AMD64')"
      ]
     },
     "execution_count": 6,
     "metadata": {},
     "output_type": "execute_result"
    }
   ],
   "source": [
    "pt.uname()"
   ]
  },
  {
   "cell_type": "code",
   "execution_count": 7,
   "id": "a99b8d93-4e5d-45d2-8fce-8b41b7209673",
   "metadata": {},
   "outputs": [
    {
     "data": {
      "text/plain": [
       "'Windows-10-10.0.19045-SP0'"
      ]
     },
     "execution_count": 7,
     "metadata": {},
     "output_type": "execute_result"
    }
   ],
   "source": [
    "pt.platform()"
   ]
  },
  {
   "cell_type": "markdown",
   "id": "1d7e3c9e-0778-49d2-9932-6f7fb8f93b7d",
   "metadata": {},
   "source": [
    "# Cores? "
   ]
  },
  {
   "cell_type": "code",
   "execution_count": 8,
   "id": "2158aba7-4ee4-4862-910b-adcad792eaa5",
   "metadata": {},
   "outputs": [],
   "source": [
    "import os"
   ]
  },
  {
   "cell_type": "code",
   "execution_count": 9,
   "id": "3bc21bfa-2196-41d1-bcfe-a868e4035d19",
   "metadata": {},
   "outputs": [
    {
     "data": {
      "text/plain": [
       "8"
      ]
     },
     "execution_count": 9,
     "metadata": {},
     "output_type": "execute_result"
    }
   ],
   "source": [
    "os.cpu_count()"
   ]
  },
  {
   "cell_type": "code",
   "execution_count": null,
   "id": "5abb0039-83b6-4963-a240-f1730ad56c48",
   "metadata": {},
   "outputs": [],
   "source": []
  }
 ],
 "metadata": {
  "kernelspec": {
   "display_name": "Python 3 (ipykernel)",
   "language": "python",
   "name": "python3"
  },
  "language_info": {
   "codemirror_mode": {
    "name": "ipython",
    "version": 3
   },
   "file_extension": ".py",
   "mimetype": "text/x-python",
   "name": "python",
   "nbconvert_exporter": "python",
   "pygments_lexer": "ipython3",
   "version": "3.11.5"
  }
 },
 "nbformat": 4,
 "nbformat_minor": 5
}
